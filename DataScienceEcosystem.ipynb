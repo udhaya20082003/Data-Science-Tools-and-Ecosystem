{
 "cells": [
  {
   "cell_type": "markdown",
   "id": "4b7683c0-b08c-42e5-8bdc-170455faf368",
   "metadata": {},
   "source": [
    "### Data Science Tools and Ecosystem"
   ]
  },
  {
   "cell_type": "markdown",
   "id": "383d9a47-5554-42bf-8a21-ebe34906efbf",
   "metadata": {},
   "source": [
    "In this notebook, Data Science Tools and Ecosystem are summarized."
   ]
  },
  {
   "cell_type": "markdown",
   "id": "4ac2d1d1-02b8-4694-b972-8770fc327110",
   "metadata": {},
   "source": [
    "### Objectives:\n",
    "<br>-Some of the popular languages that Data Scientists use\n",
    "<br>-Some of the commonly used libraries used by Data Scientists\n",
    "<br>-Data Science Tools   \n",
    "<br>-Below are a few examples of evaluating arithmetic expressions in Python.\n"
   ]
  },
  {
   "cell_type": "markdown",
   "id": "70485f76-485b-456e-a099-783393a0d89d",
   "metadata": {},
   "source": [
    "Some of the popular languages that Data Scientists use are:\n",
    "<br>1.Python\n",
    "2.R\n",
    "3.Julia\n"
   ]
  },
  {
   "cell_type": "markdown",
   "id": "e85aa63d-8c4a-43b5-9601-08dbcc0f4c0d",
   "metadata": {},
   "source": [
    "Some of the commonly used libraries used by Data Scientists include:\n",
    "<br>1.NumPy.\n",
    "2.Matplotlib.\n",
    "3.Pandas.\n",
    "4.SciPy.\n",
    "5.PyTorch."
   ]
  },
  {
   "cell_type": "markdown",
   "id": "2537dbdb-17ae-424e-acbb-4dd6b4e87dea",
   "metadata": {},
   "source": [
    "| Data Science Tools          |\n",
    "|-----------------------------|\n",
    "| Jupyter Notebook            |\n",
    "| RStudio                     |\n",
    "| Apache Zeppelin             |"
   ]
  },
  {
   "cell_type": "markdown",
   "id": "aa7c61d1-cd45-4284-b1dc-e806839fbbec",
   "metadata": {},
   "source": [
    "### Below are a few examples of evaluating arithmetic expressions in Python.\n",
    "\n",
    "1. **Addition**:\n",
    "    ```python\n",
    "    result = 3 + 2\n",
    "    print(result)  # Output: 5\n",
    "    ```\n",
    "\n",
    "2. **Subtraction**:\n",
    "    ```python\n",
    "    result = 5 - 2\n",
    "    print(result)  # Output: 3\n",
    "    ```\n",
    "\n",
    "3. **Multiplication**:\n",
    "    ```python\n",
    "    result = 4 * 3\n",
    "    print(result)  # Output: 12\n",
    "    ```\n",
    "\n",
    "4. **Division**:\n",
    "    ```python\n",
    "    result = 10 / 2\n",
    "    print(result)  # Output: 5.0\n",
    "    ```\n",
    "\n",
    "5. **Exponentiation**:\n",
    "    ```python\n",
    "    result = 2 ** 3\n",
    "    print(result)  # Output: 8\n",
    "    ```\n",
    "\n",
    "6. **Floor Division**:\n",
    "    ```python\n",
    "    result = 7 // 2\n",
    "    print(result)  # Output: 3\n",
    "    ```\n",
    "\n",
    "7. **Modulus**:\n",
    "    ```python\n",
    "    result = 7 % 3\n",
    "    print(result)  # Output: 1\n",
    "    ```"
   ]
  },
  {
   "cell_type": "code",
   "execution_count": 1,
   "id": "e344e7c1-1e01-48d4-8db1-17e02d383fa6",
   "metadata": {
    "tags": []
   },
   "outputs": [
    {
     "data": {
      "text/plain": [
       "17"
      ]
     },
     "execution_count": 1,
     "metadata": {},
     "output_type": "execute_result"
    }
   ],
   "source": [
    "# This is a simple arithmetic expression to multiply then add integers\n",
    "\n",
    "result = (3 * 4) + 5\n",
    "result  # Expected output: 17"
   ]
  },
  {
   "cell_type": "code",
   "execution_count": 2,
   "id": "2b8e1047-999a-4a9b-b2e7-e41fb04f2f2a",
   "metadata": {
    "tags": []
   },
   "outputs": [
    {
     "data": {
      "text/plain": [
       "3.3333333333333335"
      ]
     },
     "execution_count": 2,
     "metadata": {},
     "output_type": "execute_result"
    }
   ],
   "source": [
    "# This will convert 200 minutes to hours by dividing by 60\n",
    "minutes = 200\n",
    "hours = minutes / 60\n",
    "hours  # Expected output: 3.3333333333333335\n"
   ]
  },
  {
   "cell_type": "markdown",
   "id": "a508fb65-1be2-4b55-b3e1-2d2161296317",
   "metadata": {
    "tags": []
   },
   "source": [
    "\n",
    "## Author\n",
    "\n",
    "Udhaya"
   ]
  },
  {
   "cell_type": "code",
   "execution_count": null,
   "id": "5ab86004-8add-41ff-92da-97f2cd486d62",
   "metadata": {},
   "outputs": [],
   "source": []
  }
 ],
 "metadata": {
  "kernelspec": {
   "display_name": "Python",
   "language": "python",
   "name": "conda-env-python-py"
  },
  "language_info": {
   "codemirror_mode": {
    "name": "ipython",
    "version": 3
   },
   "file_extension": ".py",
   "mimetype": "text/x-python",
   "name": "python",
   "nbconvert_exporter": "python",
   "pygments_lexer": "ipython3",
   "version": "3.7.12"
  }
 },
 "nbformat": 4,
 "nbformat_minor": 5
}
